{
 "cells": [
  {
   "cell_type": "markdown",
   "metadata": {},
   "source": [
    "### Simulation/Solution of Van Der Pol Oscillator"
   ]
  },
  {
   "cell_type": "markdown",
   "metadata": {},
   "source": [
    "#### Using state independent diffusions"
   ]
  },
  {
   "cell_type": "code",
   "execution_count": 1,
   "metadata": {},
   "outputs": [
    {
     "name": "stdout",
     "output_type": "stream",
     "text": [
      "Solving the SDE using the Euler-Maruyama (explicit-explicit) method\n",
      "Simulation 1/5\n"
     ]
    },
    {
     "ename": "TypeError",
     "evalue": "vdp_drift() missing 1 required positional argument: 'p'",
     "output_type": "error",
     "traceback": [
      "\u001b[0;31m---------------------------------------------------------------------------\u001b[0m",
      "\u001b[0;31mTypeError\u001b[0m                                 Traceback (most recent call last)",
      "Cell \u001b[0;32mIn[1], line 32\u001b[0m\n\u001b[1;32m     30\u001b[0m \u001b[38;5;28;01mfor\u001b[39;00m i \u001b[38;5;129;01min\u001b[39;00m \u001b[38;5;28mrange\u001b[39m(Ns):\n\u001b[1;32m     31\u001b[0m     \u001b[38;5;28mprint\u001b[39m(\u001b[38;5;124mf\u001b[39m\u001b[38;5;124m\"\u001b[39m\u001b[38;5;124mSimulation \u001b[39m\u001b[38;5;132;01m{\u001b[39;00mi\u001b[38;5;241m+\u001b[39m\u001b[38;5;241m1\u001b[39m\u001b[38;5;132;01m}\u001b[39;00m\u001b[38;5;124m/\u001b[39m\u001b[38;5;132;01m{\u001b[39;00mNs\u001b[38;5;132;01m}\u001b[39;00m\u001b[38;5;124m\"\u001b[39m)\n\u001b[0;32m---> 32\u001b[0m     X[:,:,i] \u001b[38;5;241m=\u001b[39m \u001b[43msde_solver\u001b[49m\u001b[38;5;241;43m.\u001b[39;49m\u001b[43mexplicit_explicit\u001b[49m\u001b[43m(\u001b[49m\u001b[43mvdp_drift\u001b[49m\u001b[43m,\u001b[49m\u001b[43m \u001b[49m\u001b[43mdiff_state_independent\u001b[49m\u001b[43m,\u001b[49m\n\u001b[1;32m     33\u001b[0m \u001b[43m                                            \u001b[49m\u001b[43mT\u001b[49m\u001b[43m,\u001b[49m\u001b[43m \u001b[49m\u001b[43mx0\u001b[49m\u001b[43m,\u001b[49m\u001b[43m \u001b[49m\u001b[43mW\u001b[49m\u001b[43m[\u001b[49m\u001b[43m:\u001b[49m\u001b[43m,\u001b[49m\u001b[43m:\u001b[49m\u001b[43m,\u001b[49m\u001b[43mi\u001b[49m\u001b[43m]\u001b[49m\u001b[43m)\u001b[49m\n",
      "File \u001b[0;32m~/Desktop/Mathematical Modelling/Optimisation/02619 - Model Predictive Control/model-predictive-control/exercises/van_der_pol_python/SDE_solver.py:82\u001b[0m, in \u001b[0;36mSDE_solver.explicit_explicit\u001b[0;34m(self, ffun, gfun, T, x0, W)\u001b[0m\n\u001b[1;32m     80\u001b[0m X[:, \u001b[38;5;241m0\u001b[39m] \u001b[38;5;241m=\u001b[39m x0\n\u001b[1;32m     81\u001b[0m \u001b[38;5;28;01mfor\u001b[39;00m k \u001b[38;5;129;01min\u001b[39;00m \u001b[38;5;28mrange\u001b[39m(N\u001b[38;5;241m-\u001b[39m\u001b[38;5;241m1\u001b[39m):\n\u001b[0;32m---> 82\u001b[0m     f \u001b[38;5;241m=\u001b[39m \u001b[43mffun\u001b[49m\u001b[43m(\u001b[49m\u001b[43mT\u001b[49m\u001b[43m[\u001b[49m\u001b[43mk\u001b[49m\u001b[43m]\u001b[49m\u001b[43m,\u001b[49m\u001b[43m \u001b[49m\u001b[43mX\u001b[49m\u001b[43m[\u001b[49m\u001b[43m:\u001b[49m\u001b[43m,\u001b[49m\u001b[43m \u001b[49m\u001b[43mk\u001b[49m\u001b[43m]\u001b[49m\u001b[43m)\u001b[49m\n\u001b[1;32m     83\u001b[0m     g \u001b[38;5;241m=\u001b[39m gfun(T[k], X[:, k])\n\u001b[1;32m     84\u001b[0m     dt \u001b[38;5;241m=\u001b[39m T[k\u001b[38;5;241m+\u001b[39m\u001b[38;5;241m1\u001b[39m] \u001b[38;5;241m-\u001b[39m T[k]\n",
      "\u001b[0;31mTypeError\u001b[0m: vdp_drift() missing 1 required positional argument: 'p'"
     ]
    }
   ],
   "source": [
    "import numpy as np\n",
    "from SDE_solver import SDE_solver\n",
    "import matplotlib.pyplot as plt\n",
    "from VDP_system import vdp_drift, diff_state_dependent, diff_state_independent\n",
    "from wiener_process import standard_wiener_process\n",
    "\n",
    "# Set the initial conditions\n",
    "mu = 3\n",
    "sigma=1.0\n",
    "x0 = np.array([0.5, 0.5])\n",
    "p = np.array([mu, sigma])\n",
    "\n",
    "tf = 5*mu\n",
    "nW = 1\n",
    "N = 1000\n",
    "Ns = 5\n",
    "seed = 100\n",
    "\n",
    "# initialise solver\n",
    "sde_solver = SDE_solver()\n",
    "\n",
    "\n",
    "print(\"Solving the SDE using the Euler-Maruyama (explicit-explicit) method\")\n",
    "\n",
    "# Getting disturbances via the standard Wiener process\n",
    "W, T, _ = standard_wiener_process(tf, N, nW, Ns, seed=seed)\n",
    "\n",
    "X = np.zeros((len(x0), N+1, Ns))\n",
    "\n",
    "for i in range(Ns):\n",
    "    print(f\"Simulation {i+1}/{Ns}\")\n",
    "    X[:,:,i] = sde_solver.explicit_explicit(vdp_drift, diff_state_independent,\n",
    "                                            T, x0, W[:,:,i])\n",
    "\n",
    "\n"
   ]
  },
  {
   "cell_type": "code",
   "execution_count": null,
   "metadata": {},
   "outputs": [],
   "source": []
  }
 ],
 "metadata": {
  "kernelspec": {
   "display_name": "mpc",
   "language": "python",
   "name": "python3"
  },
  "language_info": {
   "codemirror_mode": {
    "name": "ipython",
    "version": 3
   },
   "file_extension": ".py",
   "mimetype": "text/x-python",
   "name": "python",
   "nbconvert_exporter": "python",
   "pygments_lexer": "ipython3",
   "version": "3.10.14"
  }
 },
 "nbformat": 4,
 "nbformat_minor": 2
}
