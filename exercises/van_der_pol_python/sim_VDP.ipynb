{
 "cells": [
  {
   "cell_type": "markdown",
   "metadata": {},
   "source": [
    "### Simulation/Solution of Van Der Pol Oscillator"
   ]
  },
  {
   "cell_type": "markdown",
   "metadata": {},
   "source": [
    "#### Using state independent diffusions"
   ]
  },
  {
   "cell_type": "code",
   "execution_count": 1,
   "metadata": {},
   "outputs": [
    {
     "name": "stdout",
     "output_type": "stream",
     "text": [
      "Solving the SDE using the Explicit-explicit method\n",
      "Simulation 1/5\n",
      "Simulation 2/5\n",
      "Simulation 3/5\n",
      "Simulation 4/5\n",
      "Simulation 5/5\n"
     ]
    },
    {
     "data": {
      "image/png": "[encoded data removed]",
      "text/plain": [
       "<Figure size 640x480 with 1 Axes>"
      ]
     },
     "metadata": {},
     "output_type": "display_data"
    }
   ],
   "source": [
    "import numpy as np\n",
    "from SDE_solver import SDESolver\n",
    "import matplotlib.pyplot as plt\n",
    "from VDP_system import vdp_drift, diff_state_dependent, diff_state_independent\n",
    "from wiener_process import standard_wiener_process\n",
    "\n",
    "# Set the initial conditions\n",
    "mu = 3\n",
    "sigma=1.0\n",
    "x0 = np.array([0.5, 0.5])\n",
    "p = np.array([mu, sigma])\n",
    "\n",
    "tf = 5*mu\n",
    "nW = 1\n",
    "N = 1000\n",
    "Ns = 5\n",
    "seed = 100\n",
    "\n",
    "# initialise solver\n",
    "sde_solver = SDESolver()\n",
    "\n",
    "\n",
    "print(\"Solving the SDE using the Explicit-explicit method\")\n",
    "\n",
    "# Getting disturbances via the standard Wiener process\n",
    "W, T, _ = standard_wiener_process(tf, N, nW, Ns, seed=seed)\n",
    "\n",
    "X = np.zeros((len(x0), N+1, Ns))\n",
    "X_ns = np.zeros((len(x0), N+1))\n",
    "\n",
    "for i in range(Ns):\n",
    "    print(f\"Simulation {i+1}/{Ns}\")\n",
    "\n",
    "    # Something wrong in solver - Needs to be fixed\n",
    "\n",
    "    \n",
    "    X[:,:,i] = sde_solver.explicit_explicit(vdp_drift, diff_state_independent,\n",
    "                                            T, x0, W[:,:,i], p)\n",
    "\n",
    "\n",
    "# Performing non-stochastic simulation\n",
    "# X_ns = sde_solver.explicit_explicit(vdp_drift, diff_state_independent,\n",
    "#                                             T, x0, W[:,:, 4], p)\n",
    "\n",
    "\n",
    "# print(f\"X_ns: {X_ns}\")\n",
    "\n",
    "# Plotting the results\n",
    "plt.figure()\n",
    "plt.plot(X[0,:,0])\n",
    "plt.plot(X[0,:,1])\n",
    "plt.plot(X[0,:,2])\n",
    "plt.plot(X[0,:,3])\n",
    "plt.plot(X[0,:,4])\n",
    "plt.plot(X_ns, label=\"Non-stochastic\")\n",
    "plt.title(\"Van der Pol oscillator\")\n",
    "plt.xlabel(\"$x_1$\")\n",
    "plt.ylabel(\"$x_2$\")\n",
    "\n",
    "plt.show()\n"
   ]
  },
  {
   "cell_type": "code",
   "execution_count": null,
   "metadata": {},
   "outputs": [],
   "source": []
  }
 ],
 "metadata": {
  "kernelspec": {
   "display_name": "mpc",
   "language": "python",
   "name": "python3"
  },
  "language_info": {
   "codemirror_mode": {
    "name": "ipython",
    "version": 3
   },
   "file_extension": ".py",
   "mimetype": "text/x-python",
   "name": "python",
   "nbconvert_exporter": "python",
   "pygments_lexer": "ipython3",
   "version": "3.10.14"
  }
 },
 "nbformat": 4,
 "nbformat_minor": 2
}
