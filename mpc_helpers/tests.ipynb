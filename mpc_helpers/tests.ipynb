{
 "cells": [
  {
   "cell_type": "markdown",
   "metadata": {},
   "source": [
    "### Testing quadprog\n"
   ]
  },
  {
   "cell_type": "code",
   "execution_count": 1,
   "metadata": {},
   "outputs": [
    {
     "name": "stdout",
     "output_type": "stream",
     "text": [
      "x =  [1.  2.5]\n",
      "x_expected =  [1.  2.5]\n",
      "Test passed!\n"
     ]
    }
   ],
   "source": [
    "import numpy as np\n",
    "from Quad_solver import quadprog\n",
    "from ctypes import * \n",
    "import ctypes.util\n",
    "\n",
    "\n",
    "def test_quadprog(H, g, l, u, A, bl, bu, xinit, x_expected):\n",
    "    x, _ = quadprog(H, g, l, u, A, bl, bu, xinit)\n",
    "    print(\"x = \", x)\n",
    "    print(\"x_expected = \", x_expected)\n",
    "    assert np.allclose(x, x_expected)\n",
    "    print(\"Test passed!\")\n",
    "    return\n",
    "\n",
    "\n",
    "# Dummy tests\n",
    "\n",
    "H = np.array([[2,0],[0,2]],dtype=c_double)\n",
    "g = np.array([-2,-5],dtype=c_double)\n",
    "A = np.array([[1,2],\n",
    "             [-1,-2],\n",
    "             [-1,0],\n",
    "             [0,-1]],dtype=c_double)\n",
    "bl = -np.inf*np.ones(4,dtype=c_double)\n",
    "bu = np.array([6, -6, 0, 0],dtype=c_double)\n",
    "l = -np.inf*np.ones(2,dtype=c_double)\n",
    "u = np.inf*np.ones(2,dtype=c_double)\n",
    "x_expected = np.array([1, 2.5],dtype=c_double)\n",
    "\n",
    "test_quadprog(H, g, l, u, A, bl, bu, np.array([0, 0]), x_expected)"
   ]
  }
 ],
 "metadata": {
  "kernelspec": {
   "display_name": "mpc",
   "language": "python",
   "name": "python3"
  },
  "language_info": {
   "codemirror_mode": {
    "name": "ipython",
    "version": 3
   },
   "file_extension": ".py",
   "mimetype": "text/x-python",
   "name": "python",
   "nbconvert_exporter": "python",
   "pygments_lexer": "ipython3",
   "version": "3.10.14"
  }
 },
 "nbformat": 4,
 "nbformat_minor": 2
}
